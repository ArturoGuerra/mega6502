{
 "metadata": {
  "language_info": {
   "codemirror_mode": {
    "name": "ipython",
    "version": 3
   },
   "file_extension": ".py",
   "mimetype": "text/x-python",
   "name": "python",
   "nbconvert_exporter": "python",
   "pygments_lexer": "ipython3",
   "version": "3.7.5-final"
  },
  "orig_nbformat": 2,
  "kernelspec": {
   "name": "python3",
   "display_name": "Python 3"
  }
 },
 "nbformat": 4,
 "nbformat_minor": 2,
 "cells": [
  {
   "source": [
    "# 6502 Opcodes and Addressing modes"
   ],
   "cell_type": "markdown",
   "metadata": {}
  },
  {
   "cell_type": "code",
   "execution_count": 16,
   "metadata": {},
   "outputs": [],
   "source": [
    "# Opcodes\n",
    "# for each, we store the mnemonic and mode id (see 'modes' dict below)\n",
    "opcodes = {\n",
    "    0: [ 'brk', 10 ], 1: [ 'ora', 8 ], 5: [ 'ora', 1 ], 6: [ 'asl', 1 ], 8: [ 'php', 10 ], 9: [ 'ora', 0 ], 10: [ 'asl', 10 ],\n",
    "    13: [ 'ora', 4 ], 14: [ 'asl', 4 ], 16: [ 'bpl', 11 ], 17: [ 'ora', 9 ], 21: [ 'ora', 2 ], 22: [ 'asl', 2 ], 24: [ 'clc', 10 ],\n",
    "    25: [ 'ora', 6 ], 29: [ 'ora', 5 ], 30: [ 'asl', 5 ], 32: [ 'jsr', 4 ], 33: [ 'and', 8 ], 36: [ 'bit', 1 ], 37: [ 'and', 1 ],\n",
    "    38: [ 'rol', 1 ], 40: [ 'plp', 10 ], 41: [ 'and', 0 ], 42: [ 'rol', 10 ], 44: [ 'bit', 4 ], 45: [ 'and', 4 ], 46: [ 'rol', 4 ],\n",
    "    48: [ 'bmi', 11 ], 49: [ 'and', 9 ], 53: [ 'and', 2 ], 54: [ 'rol', 2 ], 56: [ 'sec', 10 ], 57: [ 'and', 6 ], 61: [ 'and', 5 ],\n",
    "    62: [ 'rol', 5 ], 64: [ 'rti', 10 ], 65: [ 'eor', 8 ], 66: [ 'wdm', 0 ], 66: [ 'wdm', 1 ], 69: [ 'eor', 1 ], 70: [ 'lsr', 1 ],\n",
    "    72: [ 'pha', 10 ], 73: [ 'eor', 0 ], 74: [ 'lsr', 10 ], 76: [ 'jmp', 4 ], 77: [ 'eor', 4 ], 78: [ 'lsr', 4 ], 80: [ 'bvc', 11 ],\n",
    "    81: [ 'eor', 9 ], 85: [ 'eor', 2 ], 86: [ 'lsr', 2 ], 88: [ 'cli', 10 ], 89: [ 'eor', 6 ], 93: [ 'eor', 5 ], 94: [ 'lsr', 5 ],\n",
    "    96: [ 'rts', 10 ], 97: [ 'adc', 8 ], 101: [ 'adc', 1 ], 102: [ 'ror', 1 ], 104: [ 'pla', 10 ], 105: [ 'adc', 0 ], \n",
    "    106: [ 'ror', 10 ], 108: [ 'jmp', 7 ], 109: [ 'adc', 4 ], 110: [ 'ror', 4 ], 112: [ 'bvs', 11 ], 113: [ 'adc', 9 ], \n",
    "    117: [ 'adc', 2 ], 118: [ 'ror', 2 ], 120: [ 'sei', 10 ], 121: [ 'adc', 6 ], 125: [ 'adc', 5 ], 126: [ 'ror', 5 ], 129: [ 'sta', 8 ],\n",
    "    132: [ 'sty', 1 ], 133: [ 'sta', 1 ], 134: [ 'stx', 1 ], 136: [ 'dey', 10 ], 138: [ 'txa', 10 ], 140: [ 'sty', 4 ], 141: [ 'sta', 4 ],\n",
    "    142: [ 'stx', 4 ], 144: [ 'bcc', 11 ], 145: [ 'sta', 9 ], 148: [ 'sty', 2 ], 149: [ 'sta', 2 ], 150: [ 'stx', 3 ], 152: [ 'tya', 10 ],\n",
    "    153: [ 'sta', 6 ], 154: [ 'txs', 10 ], 157: [ 'sta', 5 ], 160: [ 'ldy', 0 ], 161: [ 'lda', 8 ], 162: [ 'ldx', 0 ], 164: [ 'ldy', 1 ],\n",
    "    165: [ 'lda', 1 ], 166: [ 'ldx', 1 ], 168: [ 'tay', 10 ], 169: [ 'lda', 0 ], 170: [ 'tax', 10 ], 172: [ 'ldy', 4 ], 173: [ 'lda', 4 ],\n",
    "    174: [ 'ldx', 4 ], 176: [ 'bcs', 11 ], 177: [ 'lda', 9 ], 180: [ 'ldy', 2 ], 181: [ 'lda', 2 ], 182: [ 'ldx', 3 ], 184: [ 'clv', 10 ],\n",
    "    185: [ 'lda', 6 ], 186: [ 'tsx', 10 ], 188: [ 'ldy', 5 ], 189: [ 'lda', 5 ], 190: [ 'ldx', 6 ], 192: [ 'cpy', 0 ], 193: [ 'cmp', 8 ],\n",
    "    196: [ 'cpy', 1 ], 197: [ 'cmp', 1 ], 198: [ 'dec', 1 ], 200: [ 'iny', 10 ], 201: [ 'cmp', 0 ], 202: [ 'dex', 10 ], 204: [ 'cpy', 4 ],\n",
    "    205: [ 'cmp', 4 ], 206: [ 'dec', 4 ], 208: [ 'bne', 11 ], 209: [ 'cmp', 9 ], 213: [ 'cmp', 2 ], 214: [ 'dec', 2 ], 216: [ 'cld', 10 ],\n",
    "    217: [ 'cmp', 6 ], 221: [ 'cmp', 5 ], 222: [ 'dec', 5 ], 224: [ 'cpx', 0 ], 225: [ 'sbc', 8 ], 228: [ 'cpx', 1 ], 229: [ 'sbc', 1 ],\n",
    "    230: [ 'inc', 1 ], 232: [ 'inx', 10 ], 233: [ 'sbc', 0 ], 234: [ 'nop', 10 ], 236: [ 'cpx', 4 ], 237: [ 'sbc', 4 ], 238: [ 'inc', 4 ],\n",
    "    240: [ 'beq', 11 ], 241: [ 'sbc', 9 ], 245: [ 'sbc', 2 ], 246: [ 'inc', 2 ], 248: [ 'sed', 10 ], 249: [ 'sbc', 6 ], 253: [ 'sbc', 5 ],\n",
    "    254: [ 'inc', 5 ]\n",
    "}\n",
    "\n",
    "# Addressing modes\n",
    "# for each, we store the mode name and instructions length\n",
    "modes = {\n",
    "    0: [ 'Imm', 2 ],\n",
    "    1: [ 'ZP', 2 ],\n",
    "    2: [ 'ZPX', 2 ],\n",
    "    3: [ 'ZPY', 2 ],\n",
    "    4: [ 'ABS', 3 ],\n",
    "    5: [ 'ABSX', 3 ],\n",
    "    6: [ 'ABSY', 3 ],\n",
    "    7: [ 'IND', 3 ],\n",
    "    8: [ 'INDX', 2 ],\n",
    "    9: [ 'INDY', 2 ],\n",
    "    10: [ 'SNGL', 1 ],\n",
    "    11: [ 'BRA', 2 ],\n",
    "}"
   ]
  },
  {
   "source": [
    "# Some functions"
   ],
   "cell_type": "markdown",
   "metadata": {}
  },
  {
   "cell_type": "code",
   "execution_count": 17,
   "metadata": {},
   "outputs": [],
   "source": [
    "def isValidOpcode(b):\n",
    "    return b in opcodes.keys()\n",
    "\n",
    "# decode an opcode byte b\n",
    "# returns mnemonic, mode, length\n",
    "def decode(b):\n",
    "    if isinstance(b,str):\n",
    "        b=hex2dec(b)\n",
    "    if isValidOpcode(b):\n",
    "        o, m = opcodes[b]\n",
    "        m, l = modes[m]\n",
    "        return o, m, l\n",
    "    else:\n",
    "        return None,None,None\n",
    "\n",
    "def hex2dec(s):\n",
    "    return int(s,16)"
   ]
  },
  {
   "source": [
    "Here we have the program"
   ],
   "cell_type": "markdown",
   "metadata": {}
  },
  {
   "cell_type": "code",
   "execution_count": 159,
   "metadata": {},
   "outputs": [],
   "source": [
    "prog = \"a2 00 a0 00 8a 99 00 02 48 e8 c8 c0 10 d0 f5 68 99 00 02 c8 c0 20 d0 f7\"\n",
    "\n",
    "prog = iter( prog.split(\" \"))"
   ]
  },
  {
   "source": [
    "First attempt to disassemble. Largely inspired from [skilldrick/easy6502](https://github.com/skilldrick/easy6502/blob/3261b868631e65896c1d4d2b9111053d643178a2/simulator/assembler.js#L2537)"
   ],
   "cell_type": "markdown",
   "metadata": {}
  },
  {
   "source": [
    "print(\" Addr  Hexdump      Instruction      Mode\")\n",
    "print(\"-----  -----------  -----------      ----\")\n",
    "# infinite loop\n",
    "addr_cursor = hex2dec(\"0600\") # start addr\n",
    "while True:\n",
    "    try:\n",
    "        n = next(prog)\n",
    "        hex = n\n",
    "        addr = addr_cursor\n",
    "        addr_cursor += 1\n",
    "        b = hex2dec( n )\n",
    "        comment = \"\"\n",
    "\n",
    "        if isValidOpcode(b):\n",
    "            o,m,l = decode(b)\n",
    "            #print(o,m,l)\n",
    "            operand=\"\"\n",
    "            for i in range(l-1):\n",
    "                n = next(prog)\n",
    "                addr_cursor += 1\n",
    "                hex = hex + \" \" + n\n",
    "                operand = n + operand\n",
    "            \n",
    "            #if l>1 and hex2dec(operand) >= 0x0100 and hex2dec(operand) <= 0x01ff:\n",
    "            #    comment = \"Stack\"\n",
    "\n",
    "            if o.startswith(\"b\") and o not in [\"bit\", \"brk\"] :\n",
    "                dest = addr + 2\n",
    "                operand = hex2dec(operand)\n",
    "                if operand > 0x7f:\n",
    "                    dest -= 0x100 - operand\n",
    "                else:\n",
    "                    dest += operand\n",
    "                operand = \"%04x\" % dest\n",
    "            \n",
    "            if l>1:\n",
    "                operand = \"$\"+operand\n",
    "\n",
    "            if m == \"Imm\":\n",
    "                operand = \"#\"+operand\n",
    "            if m.endswith('X'):\n",
    "                operand += \",X\"\n",
    "            if m.startswith('IND'):\n",
    "                operand = \"(\" + operand + \")\"\n",
    "            if m.endswith('Y'):\n",
    "                operand += \",Y\"\n",
    "            if b in [ 10, 74, 42, 106 ]:\n",
    "                operand = \"A\"\n",
    "            \n",
    "            print(\"$%04x  %-12s %s %-10s   %-4s %s\" % (addr, hex, o, operand, m, comment))\n",
    "\n",
    "    except StopIteration:\n",
    "        break\n"
   ],
   "cell_type": "code",
   "metadata": {},
   "execution_count": 160,
   "outputs": [
    {
     "output_type": "stream",
     "name": "stdout",
     "text": [
      " Addr  Hexdump      Instruction      Mode\n-----  -----------  -----------      ----\n$0600  a2 00        ldx #$00         Imm  \n$0602  a0 00        ldy #$00         Imm  \n$0604  8a           txa              SNGL \n$0605  99 00 02     sta $0200,Y      ABSY \n$0608  48           pha              SNGL \n$0609  e8           inx              SNGL \n$060a  c8           iny              SNGL \n$060b  c0 10        cpy #$10         Imm  \n$060d  d0 f5        bne $0604        BRA  \n$060f  68           pla              SNGL \n$0610  99 00 02     sta $0200,Y      ABSY \n$0613  c8           iny              SNGL \n$0614  c0 20        cpy #$20         Imm  \n$0616  d0 f7        bne $060f        BRA  \n"
     ]
    }
   ]
  },
  {
   "source": [
    "# 2nd attempt\n",
    "\n",
    "Now we have a stream of incoming bytes. let's first assume the first one is a SYNC (opcode fetch)"
   ],
   "cell_type": "markdown",
   "metadata": {}
  },
  {
   "cell_type": "code",
   "execution_count": 194,
   "metadata": {},
   "outputs": [],
   "source": [
    "prog = \"a2 00 a0 00 8a 99 00 02 48 e8 c8 c0 10 d0 f5 68 99 00 02 c8 c0 20 d0 f7\"\n",
    "\n",
    "#prog = iter( prog.split(\" \"))"
   ]
  },
  {
   "cell_type": "code",
   "execution_count": 195,
   "metadata": {},
   "outputs": [
    {
     "output_type": "execute_result",
     "data": {
      "text/plain": [
       "[[1536, 'a2', True],\n",
       " [1537, '00', False],\n",
       " [1538, 'a0', True],\n",
       " [1539, '00', False],\n",
       " [1540, '8a', True],\n",
       " [1541, '99', True],\n",
       " [1542, '00', False],\n",
       " [1543, '02', False],\n",
       " [1544, '48', True],\n",
       " [1545, 'e8', True],\n",
       " [1546, 'c8', True],\n",
       " [1547, 'c0', True],\n",
       " [1548, '10', False],\n",
       " [1549, 'd0', True],\n",
       " [1550, 'f5', False],\n",
       " [1551, '68', True],\n",
       " [1552, '99', True],\n",
       " [1553, '00', False],\n",
       " [1554, '02', False],\n",
       " [1555, 'c8', True],\n",
       " [1556, 'c0', True],\n",
       " [1557, '20', False],\n",
       " [1558, 'd0', True],\n",
       " [1559, 'f7', False]]"
      ]
     },
     "metadata": {},
     "execution_count": 195
    }
   ],
   "source": [
    "stream = []\n",
    "addr_cursor = hex2dec(\"0600\") # start addr\n",
    "\n",
    "# sync represent how many byte we're missing to complete the instruction\n",
    "\n",
    "sync = 0\n",
    "\n",
    "for b in prog.split(\" \"):\n",
    "    # b is the incoming byte\n",
    "\n",
    "    stream.append([ addr_cursor, b , sync==0 ])\n",
    "    if sync == 0:\n",
    "        # we just fetched a new opcode\n",
    "        _,_,l = decode(b)\n",
    "        sync = l\n",
    "\n",
    "    sync -= 1\n",
    "    addr_cursor += 1\n",
    "\n",
    "# we generate a simulated stream of [addr, data, sync] signals\n",
    "stream"
   ]
  },
  {
   "cell_type": "code",
   "execution_count": 108,
   "metadata": {},
   "outputs": [],
   "source": [
    "def render_instr(_args):\n",
    "    # args is a list: addr, mnemonic, [op1, op2]\n",
    "    # addr: the instruction's address. int or hex str\n",
    "    # mnemonic, op1 & op2 are strings in hex\n",
    "\n",
    "    # we create a copy of the _args list, because we will modify it\n",
    "    args=_args[:]\n",
    "\n",
    "    # we revers the list, so we can pop each item\n",
    "    # and at the end, the operand's byte are correctly ordered\n",
    "    addr = args.pop(0)\n",
    "    if isinstance(addr,str):\n",
    "        addr=hex2dec(addr)\n",
    "\n",
    "    opcode = args.pop(0)\n",
    "\n",
    "    args.reverse()\n",
    "    operand=\"\".join(args)\n",
    "    args.reverse() # now we need it again in the chronological order, for hexdump\n",
    "\n",
    "    comment = \"\"\n",
    "\n",
    "    unknown = \"..\"\n",
    "\n",
    "    o,m,l = decode(opcode)\n",
    "\n",
    "    miss = l - len(args) - 1 # how many operands bytes we are missing\n",
    "\n",
    "    operand = unknown*miss + operand\n",
    "\n",
    "    hexdump = \" \".join( [opcode] + args + [ unknown for _ in range(miss) ])\n",
    "\n",
    "    if o.startswith(\"b\") and o not in [\"bit\", \"brk\"] :\n",
    "        if miss==0 :\n",
    "            dest = addr + 2\n",
    "            operand = hex2dec(operand)\n",
    "            if operand > 0x7f:\n",
    "                dest -= 0x100 - operand\n",
    "            else:\n",
    "                dest += operand\n",
    "            operand = \"%04x\" % dest\n",
    "        else:\n",
    "            # add an extra unknown byte\n",
    "            operand = unknown + operand\n",
    "    \n",
    "    if l>1:\n",
    "        operand = \"$\"+operand\n",
    "\n",
    "    if m == \"Imm\":\n",
    "        operand = \"#\"+operand\n",
    "    if m.endswith('X'):\n",
    "        operand += \",X\"\n",
    "    if m.startswith('IND'):\n",
    "        operand = \"(\" + operand + \")\"\n",
    "    if m.endswith('Y'):\n",
    "        operand += \",Y\"\n",
    "    if hex2dec(opcode) in [ 10, 74, 42, 106 ]:\n",
    "        operand = \"A\"\n",
    "    \n",
    "    return (\"%04x  %-12s %s %-10s   %-4s %s\" % (addr, hexdump, o, operand, m, comment))"
   ]
  },
  {
   "cell_type": "code",
   "execution_count": 109,
   "metadata": {},
   "outputs": [],
   "source": [
    "stream = [\n",
    " [1536, 'a2', True],\n",
    " [1537, '00', False],\n",
    " [1538, 'ff', False],\n",
    " [1538, 'a0', True],\n",
    " [1539, '00', False],\n",
    " [1540, '8a', True],\n",
    " [1541, '99', True],\n",
    " [1542, '00', False],\n",
    " [1543, '02', False],\n",
    " [1544, '48', True],\n",
    " [1545, 'e8', True],\n",
    " [1546, 'c8', True],\n",
    " [1547, 'c0', True],\n",
    " [1548, '10', False],\n",
    " [1549, 'd0', True],\n",
    " [1550, 'f5', False],\n",
    " [1551, '68', True],\n",
    " [1552, '99', True],\n",
    " [1553, '00', False],\n",
    " [1554, '02', False],\n",
    " [1555, 'c8', True],\n",
    " [1556, 'c0', True],\n",
    " [1557, '20', False],\n",
    " [1558, 'd0', True],\n",
    " [1559, 'f7', False]\n",
    "]"
   ]
  },
  {
   "cell_type": "code",
   "execution_count": 117,
   "metadata": {},
   "outputs": [
    {
     "output_type": "stream",
     "name": "stdout",
     "text": [
      "0600 a2 | 0600  a2 ..        ldx #$..         Imm  \n0601 00 | 0600  a2 00        ldx #$00         Imm  \n0602 ff |                                     Not an instruction\n0602 a0 | 0602  a0 ..        ldy #$..         Imm  \n0603 00 | 0602  a0 00        ldy #$00         Imm  \n0604 8a | 0604  8a           txa              SNGL \n0605 99 | 0605  99 .. ..     sta $....,Y      ABSY \n0606 00 | 0605  99 00 ..     sta $..00,Y      ABSY \n0607 02 | 0605  99 00 02     sta $0200,Y      ABSY \n0608 48 | 0608  48           pha              SNGL \n0609 e8 | 0609  e8           inx              SNGL \n060a c8 | 060a  c8           iny              SNGL \n060b c0 | 060b  c0 ..        cpy #$..         Imm  \n060c 10 | 060b  c0 10        cpy #$10         Imm  \n060d d0 | 060d  d0 ..        bne $....        BRA  \n060e f5 | 060d  d0 f5        bne $0604        BRA  \n060f 68 | 060f  68           pla              SNGL \n0610 99 | 0610  99 .. ..     sta $....,Y      ABSY \n0611 00 | 0610  99 00 ..     sta $..00,Y      ABSY \n0612 02 | 0610  99 00 02     sta $0200,Y      ABSY \n0613 c8 | 0613  c8           iny              SNGL \n0614 c0 | 0614  c0 ..        cpy #$..         Imm  \n0615 20 | 0614  c0 20        cpy #$20         Imm  \n0616 d0 | 0616  d0 ..        bne $....        BRA  \n0617 f7 | 0616  d0 f7        bne $060f        BRA  \n"
     ]
    }
   ],
   "source": [
    "iter_stream = iter(stream)\n",
    "\n",
    "# count how many bytes we still miss\n",
    "# to complete the current instruction \n",
    "miss = 0\n",
    "instr=[]\n",
    "while True:\n",
    "    try:\n",
    "        addr_cursor, b, sync = next(iter_stream)\n",
    "\n",
    "        if sync:\n",
    "            # new instruction started\n",
    "            # opcode fetched\n",
    "            instr=[addr_cursor, b]\n",
    "            _,_,l = decode(b)\n",
    "            miss = l\n",
    "        else:\n",
    "            instr.append(b)\n",
    "\n",
    "        miss -= 1\n",
    "        if miss >= 0:\n",
    "            print(\"%04x %s | %s\" % (addr_cursor, b, render_instr(instr) ))\n",
    "        else:\n",
    "            print(\"%04x %s | %s\" % (addr_cursor, b, 36*\" \"+ \"Not an instruction\" ))\n",
    "        \n",
    "    except StopIteration:\n",
    "        break"
   ]
  }
 ]
}